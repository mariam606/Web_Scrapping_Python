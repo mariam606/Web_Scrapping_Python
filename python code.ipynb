{
 "cells": [
  {
   "cell_type": "code",
   "execution_count": null,
   "id": "041d45c6",
   "metadata": {},
   "outputs": [],
   "source": [
    "!pip install mysql-connector-python"
   ]
  },
  {
   "cell_type": "code",
   "execution_count": null,
   "id": "3e730126",
   "metadata": {},
   "outputs": [],
   "source": [
    "import mysql.connector\n",
    "import random\n",
    "from random import randint"
   ]
  },
  {
   "cell_type": "code",
   "execution_count": 109,
   "id": "cea96485",
   "metadata": {},
   "outputs": [],
   "source": [
    "# Create a connection\n",
    "mydb = mysql.connector.connect(\n",
    " host=\"localhost\" ,\n",
    " user=\"root\",\n",
    " port = 3306,\n",
    " password=\"Mmeroo135?\"\n",
    ")"
   ]
  },
  {
   "cell_type": "code",
   "execution_count": 110,
   "id": "770393ac",
   "metadata": {},
   "outputs": [
    {
     "name": "stdout",
     "output_type": "stream",
     "text": [
      "<mysql.connector.connection_cext.CMySQLConnection object at 0x00000237E1B5C9A0>\n"
     ]
    }
   ],
   "source": [
    "# Test\n",
    "print(mydb)"
   ]
  },
  {
   "cell_type": "code",
   "execution_count": 111,
   "id": "260bdb8e",
   "metadata": {},
   "outputs": [],
   "source": [
    "mydb = mysql.connector.connect(\n",
    " host=\"db4free.net\",\n",
    " user=\"sql8578891\",\n",
    " password=\"Mmeroo135?\",\n",
    " database=\"sql8578891\"\n",
    ")"
   ]
  },
  {
   "cell_type": "markdown",
   "id": "9b5c679a",
   "metadata": {},
   "source": [
    "MS3 Queries"
   ]
  },
  {
   "cell_type": "markdown",
   "id": "c30a3e36",
   "metadata": {},
   "source": [
    "1- Register a user"
   ]
  },
  {
   "cell_type": "code",
   "execution_count": 148,
   "id": "95e46ae1",
   "metadata": {},
   "outputs": [
    {
     "name": "stdout",
     "output_type": "stream",
     "text": [
      "Please enter your name: nada ibrahim\n",
      "Please enter your date of birth in the format year-month-day: 2013-12-12\n",
      "Please enter your email: nada@gmail.com\n",
      "Please enter your gender: female\n"
     ]
    }
   ],
   "source": [
    "mydb.reconnect()\n",
    "mycursor = mydb.cursor()\n",
    "sql = \"\"\"\n",
    "INSERT INTO user_info\n",
    "VALUES(%s, %s, %s, %s, %s)\n",
    "\"\"\"\n",
    "\n",
    "ID = randint(1, 10000)\n",
    "name = input(\"Please enter your name: \")\n",
    "dateOfBirth = input(\"Please enter your date of birth in the format year-month-day: \")\n",
    "email = input(\"Please enter your email: \")\n",
    "gender = input(\"Please enter your gender: \")\n",
    "val = (ID, name, dateOfBirth, email, gender);\n",
    "\n",
    "mycursor.execute(sql, val)"
   ]
  },
  {
   "cell_type": "code",
   "execution_count": 149,
   "id": "828b498c",
   "metadata": {},
   "outputs": [],
   "source": [
    "mydb.commit()"
   ]
  },
  {
   "cell_type": "code",
   "execution_count": 151,
   "id": "b9ab6aa0",
   "metadata": {},
   "outputs": [],
   "source": [
    "mydb.reconnect()\n",
    "mycursor = mydb.cursor()\n",
    "sql = \"\"\"\n",
    "SELECT *\n",
    "FROM user_info\n",
    "WHERE username = \"nada ibrahim\";\n",
    "\"\"\"\n",
    "mycursor.execute(sql)"
   ]
  },
  {
   "cell_type": "code",
   "execution_count": 152,
   "id": "c43632dd",
   "metadata": {},
   "outputs": [
    {
     "name": "stdout",
     "output_type": "stream",
     "text": [
      "[(4254, 'nada ibrahim', '2013-12-12', 'nada@gmail.com', 'female')]\n"
     ]
    }
   ],
   "source": [
    "result = mycursor.fetchall()\n",
    "print(result)"
   ]
  },
  {
   "cell_type": "markdown",
   "id": "5e49ebf2",
   "metadata": {},
   "source": [
    "2- Add a new user review on an agent "
   ]
  },
  {
   "cell_type": "code",
   "execution_count": 154,
   "id": "1df10656",
   "metadata": {},
   "outputs": [
    {
     "name": "stdout",
     "output_type": "stream",
     "text": [
      "Please enter your username: nada ibrahim\n",
      "Please the agent company name(ex: Sakan Real Estate): Sakan Real Estate\n",
      "Please enter your feedback(text): Good company\n",
      "Please enter your rating(between 1 and 10): 5.5\n"
     ]
    }
   ],
   "source": [
    "mydb.reconnect()\n",
    "mycursor = mydb.cursor()\n",
    "sql = \"\"\"\n",
    "INSERT INTO feedback\n",
    "VALUES(%s, %s, %s, %s, %s)\n",
    "\"\"\"\n",
    "\n",
    "ID = randint(1, 10000)\n",
    "name = input(\"Please enter your username: \")\n",
    "agentName = input(\"Please the agent company name(ex: Sakan Real Estate): \")\n",
    "feedback = input(\"Please enter your feedback(text): \")\n",
    "rate = input(\"Please enter your rating(between 1 and 10): \")\n",
    "val = (ID, name, agentName, feedback, rate);\n",
    "\n",
    "mycursor.execute(sql, val)"
   ]
  },
  {
   "cell_type": "code",
   "execution_count": 155,
   "id": "cfd37e5a",
   "metadata": {},
   "outputs": [],
   "source": [
    "mydb.commit()"
   ]
  },
  {
   "cell_type": "markdown",
   "id": "564ef0bf",
   "metadata": {},
   "source": [
    "3- View existing reviews of a given agent"
   ]
  },
  {
   "cell_type": "code",
   "execution_count": null,
   "id": "aa370179",
   "metadata": {},
   "outputs": [],
   "source": [
    "mydb.reconnect()\n",
    "mycursor = mydb.cursor()\n",
    "sql = \"\"\"\n",
    "SELECT *\n",
    "FROM feedback\n",
    "WHERE agent_name = %s;\n",
    "\"\"\"\n",
    "\n",
    "agentName = input(\"Please enter the agent company name(ex: Sakan Real Estate)\")\n",
    "val = (agentName)\n",
    "\n",
    "mycursor.execute(sql, val)"
   ]
  },
  {
   "cell_type": "code",
   "execution_count": null,
   "id": "634119fb",
   "metadata": {},
   "outputs": [],
   "source": [
    "result = mycursor.fetchall()\n",
    "for r in result:\n",
    "    print(r)"
   ]
  },
  {
   "cell_type": "markdown",
   "id": "96dc7eec",
   "metadata": {},
   "source": [
    "4- View aggregated rating of a brokerage company"
   ]
  },
  {
   "cell_type": "code",
   "execution_count": 120,
   "id": "36711cd5",
   "metadata": {},
   "outputs": [],
   "source": [
    "mydb.reconnect()\n",
    "mycursor = mydb.cursor()\n",
    "sql = \"\"\"\n",
    "SELECT avg(rate)\n",
    "FROM broker B INNER JOIN agent A\n",
    "ON B.broker_name = A.broker_name\n",
    "INNER JOIN feedback F\n",
    "ON F.agent_name = A.agent_name\n",
    "WHERE B.broker_name = 'El Omda Real Estate';\n",
    "\"\"\"\n",
    "mycursor.execute(sql)"
   ]
  },
  {
   "cell_type": "code",
   "execution_count": 121,
   "id": "e6b85a80",
   "metadata": {},
   "outputs": [
    {
     "name": "stdout",
     "output_type": "stream",
     "text": [
      "[(Decimal('4.5000'),)]\n"
     ]
    }
   ],
   "source": [
    "result = mycursor.fetchall()\n",
    "print(result)"
   ]
  },
  {
   "cell_type": "markdown",
   "id": "2fdad03f",
   "metadata": {},
   "source": [
    "5- Show the location of a given development, along with the average price / sqm and the number of \n",
    "listings for each unit type"
   ]
  },
  {
   "cell_type": "markdown",
   "id": "b0d29305",
   "metadata": {},
   "source": [
    "6- Show all the properties of in a certain city, along with the average price / sqm for each unit type"
   ]
  },
  {
   "cell_type": "code",
   "execution_count": 135,
   "id": "19bc426e",
   "metadata": {},
   "outputs": [],
   "source": [
    "mydb.reconnect()\n",
    "mycursor = mydb.cursor()\n",
    "sql = \"\"\"\n",
    "SELECT city, avg(price/area) AS 'price/sqm', p_type \n",
    "FROM property \n",
    "GROUP BY city, p_type;\n",
    "\"\"\"\n",
    "mycursor.execute(sql)"
   ]
  },
  {
   "cell_type": "code",
   "execution_count": 136,
   "id": "839362b4",
   "metadata": {},
   "outputs": [
    {
     "name": "stdout",
     "output_type": "stream",
     "text": [
      "('Qalyubia', Decimal('176.51430000'), 'Land')\n",
      "('Qalyubia', Decimal('629.12692000'), 'Apartment')\n",
      "('Cairo', Decimal('9107.89413573'), 'Apartment')\n",
      "('Alexandria', Decimal('1190.50366147'), 'Apartment')\n",
      "('Red Sea', Decimal('1432.45873288'), 'Apartment')\n",
      "('Suez', Decimal('8156.75792561'), 'Chalet')\n",
      "('North Coast', Decimal('11819.22668000'), 'Chalet')\n",
      "('Cairo', Decimal('319.08906900'), 'Penthouse')\n",
      "('Cairo', Decimal('5933.80341732'), 'Duplex')\n",
      "('Cairo', Decimal('665.21148179'), 'Villa')\n",
      "('Red Sea', Decimal('1557.85560000'), 'Duplex')\n",
      "('Cairo', Decimal('2583.59117292'), 'Townhouse')\n",
      "('Giza', Decimal('2531.78872913'), 'Apartment')\n",
      "('Suez', Decimal('576.37745882'), 'Villa')\n",
      "('North Coast', Decimal('2065.06179048'), 'Apartment')\n",
      "('Giza', Decimal('453.89648727'), 'Duplex')\n",
      "('Suez', Decimal('765.95062000'), 'Townhouse')\n",
      "('Giza', Decimal('5637.07565741'), 'Villa')\n",
      "('Al Daqahlya', Decimal('900.22071071'), 'Apartment')\n",
      "('Red Sea', Decimal('1979.84574615'), 'Chalet')\n",
      "('Cairo', Decimal('634.99358542'), 'iVilla')\n",
      "('Giza', Decimal('24520.59046852'), 'iVilla')\n",
      "('South Sainai', Decimal('309.58569667'), 'Chalet')\n",
      "('Cairo', Decimal('337.23905000'), 'Twin House')\n",
      "('Cairo', Decimal('2657.41272105'), 'Hotel Apartment')\n",
      "('Giza', Decimal('352.09671579'), 'Twin House')\n",
      "('Matrouh', Decimal('266.14801304'), 'Apartment')\n",
      "('Giza', Decimal('427.57835957'), 'Townhouse')\n",
      "('Cairo', Decimal('2218.78763333'), 'Bulk Sale Unit')\n",
      "('Giza', Decimal('11084.59580370'), 'Penthouse')\n",
      "('North Coast', Decimal('634.94580000'), 'Villa')\n",
      "('Giza', Decimal('497.66371739'), 'Land')\n",
      "('Suez', Decimal('781.21244286'), 'Apartment')\n",
      "('Alexandria', Decimal('710.66535000'), 'Duplex')\n",
      "('Giza', Decimal('554.38752000'), 'Compound')\n",
      "('Suez', Decimal('794.63214000'), 'Duplex')\n",
      "('Cairo', Decimal('206.50536538'), 'Land')\n",
      "('Suez', Decimal('873.85888182'), 'Penthouse')\n",
      "('Matrouh', Decimal('884467.71655000'), 'Chalet')\n",
      "('North Coast', Decimal('1339.80630000'), 'Twin House')\n",
      "('Giza', Decimal('1115.02502857'), 'Chalet')\n",
      "('North Coast', Decimal('1921.81977500'), 'Penthouse')\n",
      "('Red Sea', Decimal('1419.94805000'), 'Penthouse')\n",
      "('Cairo', Decimal('1089.36310000'), 'Chalet')\n",
      "('Al Gharbeya', Decimal('747.20070000'), 'Apartment')\n",
      "('Qalyubia', Decimal('130.34101667'), 'Villa')\n",
      "('Cairo', Decimal('675418.02135000'), 'Full Floor')\n",
      "('Port Saeed', Decimal('202.01056667'), 'Apartment')\n",
      "('Cairo', Decimal('1658.92500000'), 'Compound')\n",
      "('Al Gharbeya', Decimal('1114.72360000'), 'Land')\n",
      "('Asyut', Decimal('115.83330000'), 'Villa')\n",
      "('Suez', Decimal('593.96018333'), 'Twin House')\n",
      "('Giza', Decimal('2178.52879167'), 'Bulk Sale Unit')\n",
      "('Alexandria', Decimal('241.29170000'), 'Villa')\n",
      "('Alexandria', Decimal('1702.78640000'), 'Chalet')\n",
      "('Al Daqahlya', Decimal('928.79260000'), 'Duplex')\n",
      "('Al Menofeya', Decimal('723.02560000'), 'Apartment')\n",
      "('Sharqia', Decimal('580.72010000'), 'Apartment')\n"
     ]
    }
   ],
   "source": [
    "result = mycursor.fetchall()\n",
    "for r in result:\n",
    "    print(r)"
   ]
  },
  {
   "cell_type": "markdown",
   "id": "dd5a8d5b",
   "metadata": {},
   "source": [
    "7- Show all the properties in a certain city in a given price range, with a given set of amenities "
   ]
  },
  {
   "cell_type": "code",
   "execution_count": 127,
   "id": "36154317",
   "metadata": {},
   "outputs": [],
   "source": [
    "mydb.reconnect()\n",
    "mycursor = mydb.cursor()\n",
    "sql = \"\"\"\n",
    "SELECT distinct p_id\n",
    "FROM property P INNER JOIN amenity A\n",
    "ON P.p_id = A.property_ID\n",
    "WHERE city = 'Cairo' AND price > 500000 AND price < 2500000 AND (A.amenity = 'Central A/C' OR A.amenity = 'Central A/C');\n",
    "\"\"\"\n",
    "mycursor.execute(sql)"
   ]
  },
  {
   "cell_type": "code",
   "execution_count": 128,
   "id": "3cfd3fbc",
   "metadata": {},
   "outputs": [
    {
     "name": "stdout",
     "output_type": "stream",
     "text": [
      "(45,)\n",
      "(69,)\n",
      "(70,)\n",
      "(71,)\n",
      "(219,)\n",
      "(221,)\n",
      "(231,)\n",
      "(236,)\n",
      "(244,)\n",
      "(248,)\n",
      "(293,)\n",
      "(352,)\n",
      "(365,)\n",
      "(374,)\n",
      "(383,)\n",
      "(384,)\n",
      "(385,)\n",
      "(418,)\n",
      "(429,)\n",
      "(432,)\n",
      "(437,)\n",
      "(440,)\n",
      "(443,)\n",
      "(448,)\n",
      "(489,)\n",
      "(544,)\n",
      "(640,)\n",
      "(672,)\n",
      "(701,)\n",
      "(731,)\n",
      "(743,)\n",
      "(757,)\n",
      "(759,)\n",
      "(777,)\n",
      "(795,)\n",
      "(807,)\n",
      "(921,)\n",
      "(923,)\n",
      "(969,)\n",
      "(978,)\n",
      "(980,)\n",
      "(993,)\n",
      "(1000,)\n",
      "(1001,)\n",
      "(1043,)\n",
      "(1046,)\n",
      "(1057,)\n",
      "(1059,)\n",
      "(1090,)\n",
      "(1094,)\n",
      "(1095,)\n",
      "(1146,)\n",
      "(1154,)\n",
      "(1180,)\n",
      "(1189,)\n",
      "(1204,)\n",
      "(1219,)\n",
      "(1227,)\n",
      "(1245,)\n",
      "(1281,)\n",
      "(1287,)\n",
      "(1335,)\n",
      "(1346,)\n",
      "(1354,)\n",
      "(1396,)\n",
      "(1410,)\n",
      "(1436,)\n",
      "(1563,)\n",
      "(1579,)\n",
      "(1587,)\n",
      "(1590,)\n",
      "(1650,)\n",
      "(1659,)\n",
      "(1674,)\n",
      "(1675,)\n",
      "(1680,)\n",
      "(1681,)\n",
      "(1682,)\n",
      "(1706,)\n",
      "(1722,)\n",
      "(1727,)\n",
      "(1730,)\n",
      "(1739,)\n",
      "(1905,)\n",
      "(1961,)\n",
      "(1989,)\n",
      "(1994,)\n",
      "(2018,)\n",
      "(2023,)\n",
      "(2029,)\n",
      "(2063,)\n",
      "(2090,)\n",
      "(2106,)\n",
      "(2110,)\n",
      "(2116,)\n",
      "(2140,)\n",
      "(2165,)\n",
      "(2207,)\n",
      "(2210,)\n",
      "(2224,)\n",
      "(2226,)\n",
      "(2240,)\n",
      "(2255,)\n",
      "(2272,)\n",
      "(2275,)\n",
      "(2292,)\n",
      "(2305,)\n",
      "(2325,)\n",
      "(2333,)\n",
      "(2343,)\n",
      "(2365,)\n",
      "(2371,)\n",
      "(2397,)\n",
      "(2454,)\n",
      "(2480,)\n",
      "(2486,)\n",
      "(2487,)\n",
      "(2519,)\n",
      "(2563,)\n",
      "(2565,)\n",
      "(2566,)\n",
      "(2577,)\n",
      "(2592,)\n",
      "(2602,)\n",
      "(2624,)\n",
      "(2649,)\n",
      "(2671,)\n",
      "(2718,)\n",
      "(2751,)\n",
      "(2753,)\n",
      "(2774,)\n",
      "(2807,)\n",
      "(2815,)\n",
      "(2825,)\n",
      "(2826,)\n",
      "(2832,)\n",
      "(2837,)\n",
      "(2839,)\n",
      "(2845,)\n",
      "(2857,)\n",
      "(2858,)\n",
      "(2862,)\n",
      "(2864,)\n",
      "(2866,)\n",
      "(2869,)\n",
      "(2873,)\n",
      "(2885,)\n",
      "(2899,)\n",
      "(2939,)\n",
      "(2960,)\n",
      "(3018,)\n",
      "(3061,)\n",
      "(3068,)\n",
      "(3070,)\n",
      "(3090,)\n",
      "(3095,)\n",
      "(3096,)\n",
      "(3102,)\n",
      "(3108,)\n",
      "(3109,)\n",
      "(3110,)\n",
      "(3174,)\n",
      "(3189,)\n",
      "(3232,)\n",
      "(3236,)\n",
      "(3244,)\n",
      "(3248,)\n",
      "(3251,)\n",
      "(3281,)\n",
      "(3288,)\n",
      "(3299,)\n",
      "(3300,)\n",
      "(3319,)\n",
      "(3328,)\n",
      "(3362,)\n",
      "(3363,)\n",
      "(3375,)\n",
      "(3399,)\n",
      "(3441,)\n",
      "(3460,)\n",
      "(3464,)\n",
      "(3470,)\n",
      "(3484,)\n",
      "(3495,)\n",
      "(3497,)\n",
      "(3518,)\n",
      "(3523,)\n",
      "(3526,)\n",
      "(3534,)\n",
      "(3542,)\n",
      "(3554,)\n",
      "(3561,)\n",
      "(3565,)\n",
      "(3574,)\n",
      "(3590,)\n",
      "(3591,)\n",
      "(3596,)\n",
      "(3642,)\n",
      "(3666,)\n",
      "(3799,)\n",
      "(3801,)\n",
      "(3802,)\n",
      "(3803,)\n",
      "(3805,)\n",
      "(3826,)\n",
      "(3864,)\n",
      "(3865,)\n",
      "(3871,)\n",
      "(3893,)\n",
      "(3909,)\n",
      "(3928,)\n",
      "(4120,)\n",
      "(4142,)\n",
      "(4152,)\n",
      "(4182,)\n",
      "(4205,)\n",
      "(4272,)\n",
      "(4355,)\n",
      "(4430,)\n",
      "(4457,)\n",
      "(4458,)\n",
      "(4505,)\n",
      "(4530,)\n",
      "(4556,)\n",
      "(4572,)\n",
      "(4595,)\n",
      "(4605,)\n",
      "(4614,)\n",
      "(4619,)\n",
      "(4621,)\n",
      "(4629,)\n",
      "(4638,)\n",
      "(4646,)\n",
      "(4665,)\n",
      "(4674,)\n",
      "(4677,)\n",
      "(4682,)\n",
      "(4750,)\n",
      "(4751,)\n",
      "(4793,)\n",
      "(4794,)\n",
      "(4795,)\n",
      "(4798,)\n",
      "(4799,)\n",
      "(4800,)\n",
      "(4801,)\n",
      "(4802,)\n",
      "(4835,)\n",
      "(4836,)\n",
      "(4857,)\n",
      "(4862,)\n",
      "(4939,)\n",
      "(4952,)\n",
      "(5042,)\n",
      "(5069,)\n",
      "(5118,)\n",
      "(5141,)\n",
      "(5146,)\n",
      "(5178,)\n",
      "(5203,)\n",
      "(5231,)\n",
      "(5232,)\n",
      "(5263,)\n",
      "(5270,)\n",
      "(5275,)\n",
      "(5334,)\n",
      "(5381,)\n",
      "(5400,)\n",
      "(5405,)\n",
      "(5421,)\n",
      "(5471,)\n",
      "(5487,)\n",
      "(5489,)\n",
      "(5493,)\n",
      "(5502,)\n",
      "(5508,)\n",
      "(5536,)\n",
      "(5553,)\n",
      "(5571,)\n",
      "(5577,)\n",
      "(5592,)\n",
      "(5604,)\n",
      "(5653,)\n",
      "(5671,)\n",
      "(5690,)\n",
      "(5710,)\n"
     ]
    }
   ],
   "source": [
    "result = mycursor.fetchall()\n",
    "for r in result:\n",
    "    print(r)"
   ]
  },
  {
   "cell_type": "markdown",
   "id": "c9fd6055",
   "metadata": {},
   "source": [
    "8- Show the top 10 areas in a given city by amount of inventory and price / sqm of a given unit type"
   ]
  },
  {
   "cell_type": "code",
   "execution_count": 130,
   "id": "46324f87",
   "metadata": {},
   "outputs": [],
   "source": [
    "mydb.reconnect()\n",
    "mycursor = mydb.cursor()\n",
    "sql = \"\"\"\n",
    "SELECT address AS 'area', count(p_id) AS 'amount of inventory', avg(price/area) AS 'price/sqm', p_type\n",
    "FROM property\n",
    "GROUP BY p_type, address\n",
    "ORDER BY 2, 3\n",
    "LIMIT 10;\n",
    "\"\"\"\n",
    "mycursor.execute(sql)"
   ]
  },
  {
   "cell_type": "code",
   "execution_count": 131,
   "id": "022771d1",
   "metadata": {},
   "outputs": [
    {
     "name": "stdout",
     "output_type": "stream",
     "text": [
      "('Cairo, New Cairo City, Ganoob El Acadimia', 1, Decimal('0.09290000'), 'Apartment')\n",
      "('Cairo', 1, Decimal('0.09290000'), 'iVilla')\n",
      "('Giza, Sheikh Zayed City, Sheikh Zayed Compounds', 1, Decimal('58.05850000'), 'Compound')\n",
      "('Cairo, Shorouk City, El Shorouk Compounds', 1, Decimal('114.97820000'), 'Townhouse')\n",
      "('Asyut, Asyut City', 1, Decimal('115.83330000'), 'Villa')\n",
      "('Cairo, Mostakbal City - Future City, Mostakbal City Compounds', 1, Decimal('120.39050000'), 'Penthouse')\n",
      "('Giza, 6 October City, 6 October Compounds', 1, Decimal('123.83900000'), 'Compound')\n",
      "('Cairo, New Cairo City, The 5th Settlement', 1, Decimal('161.90880000'), 'Townhouse')\n",
      "('Giza, Cairo Alexandria Desert Road', 1, Decimal('174.18990000'), 'Townhouse')\n",
      "('Cairo, Mokattam', 1, Decimal('198.40060000'), 'Duplex')\n"
     ]
    }
   ],
   "source": [
    "result = mycursor.fetchall()\n",
    "for r in result:\n",
    "    print(r)"
   ]
  },
  {
   "cell_type": "markdown",
   "id": "3704c64c",
   "metadata": {},
   "source": [
    "9- Show the top 5 brokerage companies by the amount of listings they have, along with their avg price \n",
    "/ sqm, number of agents, and average listings per agent"
   ]
  },
  {
   "cell_type": "code",
   "execution_count": 132,
   "id": "584871e7",
   "metadata": {},
   "outputs": [
    {
     "ename": "ProgrammingError",
     "evalue": "1064 (42000): You have an error in your SQL syntax; check the manual that corresponds to your MySQL server version for the right syntax to use near 'FROM broker INNER JOIN agent\nON broker.broker_name = agent.broker_name\nINNER JOI' at line 2",
     "output_type": "error",
     "traceback": [
      "\u001b[1;31m---------------------------------------------------------------------------\u001b[0m",
      "\u001b[1;31mMySQLInterfaceError\u001b[0m                       Traceback (most recent call last)",
      "\u001b[1;32m~\\anaconda3\\lib\\site-packages\\mysql\\connector\\connection_cext.py\u001b[0m in \u001b[0;36mcmd_query\u001b[1;34m(self, query, raw, buffered, raw_as_string)\u001b[0m\n\u001b[0;32m    564\u001b[0m                 \u001b[0mquery\u001b[0m \u001b[1;33m=\u001b[0m \u001b[0mquery\u001b[0m\u001b[1;33m.\u001b[0m\u001b[0mencode\u001b[0m\u001b[1;33m(\u001b[0m\u001b[1;34m\"utf-8\"\u001b[0m\u001b[1;33m)\u001b[0m\u001b[1;33m\u001b[0m\u001b[1;33m\u001b[0m\u001b[0m\n\u001b[1;32m--> 565\u001b[1;33m             self._cmysql.query(\n\u001b[0m\u001b[0;32m    566\u001b[0m                 \u001b[0mquery\u001b[0m\u001b[1;33m,\u001b[0m\u001b[1;33m\u001b[0m\u001b[1;33m\u001b[0m\u001b[0m\n",
      "\u001b[1;31mMySQLInterfaceError\u001b[0m: You have an error in your SQL syntax; check the manual that corresponds to your MySQL server version for the right syntax to use near 'FROM broker INNER JOIN agent\nON broker.broker_name = agent.broker_name\nINNER JOI' at line 2",
      "\nThe above exception was the direct cause of the following exception:\n",
      "\u001b[1;31mProgrammingError\u001b[0m                          Traceback (most recent call last)",
      "\u001b[1;32mC:\\Users\\MARIAM~1\\AppData\\Local\\Temp/ipykernel_15284/3336313570.py\u001b[0m in \u001b[0;36m<module>\u001b[1;34m\u001b[0m\n\u001b[0;32m     10\u001b[0m \u001b[0mLIMIT\u001b[0m \u001b[1;36m5\u001b[0m\u001b[1;33m;\u001b[0m\u001b[1;33m\u001b[0m\u001b[1;33m\u001b[0m\u001b[0m\n\u001b[0;32m     11\u001b[0m \"\"\"\n\u001b[1;32m---> 12\u001b[1;33m \u001b[0mmycursor\u001b[0m\u001b[1;33m.\u001b[0m\u001b[0mexecute\u001b[0m\u001b[1;33m(\u001b[0m\u001b[0msql\u001b[0m\u001b[1;33m)\u001b[0m\u001b[1;33m\u001b[0m\u001b[1;33m\u001b[0m\u001b[0m\n\u001b[0m",
      "\u001b[1;32m~\\anaconda3\\lib\\site-packages\\mysql\\connector\\cursor_cext.py\u001b[0m in \u001b[0;36mexecute\u001b[1;34m(self, operation, params, multi)\u001b[0m\n\u001b[0;32m    277\u001b[0m \u001b[1;33m\u001b[0m\u001b[0m\n\u001b[0;32m    278\u001b[0m         \u001b[1;32mtry\u001b[0m\u001b[1;33m:\u001b[0m\u001b[1;33m\u001b[0m\u001b[1;33m\u001b[0m\u001b[0m\n\u001b[1;32m--> 279\u001b[1;33m             result = self._cnx.cmd_query(\n\u001b[0m\u001b[0;32m    280\u001b[0m                 \u001b[0mstmt\u001b[0m\u001b[1;33m,\u001b[0m\u001b[1;33m\u001b[0m\u001b[1;33m\u001b[0m\u001b[0m\n\u001b[0;32m    281\u001b[0m                 \u001b[0mraw\u001b[0m\u001b[1;33m=\u001b[0m\u001b[0mself\u001b[0m\u001b[1;33m.\u001b[0m\u001b[0m_raw\u001b[0m\u001b[1;33m,\u001b[0m\u001b[1;33m\u001b[0m\u001b[1;33m\u001b[0m\u001b[0m\n",
      "\u001b[1;32m~\\anaconda3\\lib\\site-packages\\mysql\\connector\\connection_cext.py\u001b[0m in \u001b[0;36mcmd_query\u001b[1;34m(self, query, raw, buffered, raw_as_string)\u001b[0m\n\u001b[0;32m    571\u001b[0m             )\n\u001b[0;32m    572\u001b[0m         \u001b[1;32mexcept\u001b[0m \u001b[0mMySQLInterfaceError\u001b[0m \u001b[1;32mas\u001b[0m \u001b[0merr\u001b[0m\u001b[1;33m:\u001b[0m\u001b[1;33m\u001b[0m\u001b[1;33m\u001b[0m\u001b[0m\n\u001b[1;32m--> 573\u001b[1;33m             raise get_mysql_exception(\n\u001b[0m\u001b[0;32m    574\u001b[0m                 \u001b[0merr\u001b[0m\u001b[1;33m.\u001b[0m\u001b[0merrno\u001b[0m\u001b[1;33m,\u001b[0m \u001b[0mmsg\u001b[0m\u001b[1;33m=\u001b[0m\u001b[0merr\u001b[0m\u001b[1;33m.\u001b[0m\u001b[0mmsg\u001b[0m\u001b[1;33m,\u001b[0m \u001b[0msqlstate\u001b[0m\u001b[1;33m=\u001b[0m\u001b[0merr\u001b[0m\u001b[1;33m.\u001b[0m\u001b[0msqlstate\u001b[0m\u001b[1;33m\u001b[0m\u001b[1;33m\u001b[0m\u001b[0m\n\u001b[0;32m    575\u001b[0m             ) from err\n",
      "\u001b[1;31mProgrammingError\u001b[0m: 1064 (42000): You have an error in your SQL syntax; check the manual that corresponds to your MySQL server version for the right syntax to use near 'FROM broker INNER JOIN agent\nON broker.broker_name = agent.broker_name\nINNER JOI' at line 2"
     ]
    }
   ],
   "source": [
    "mydb.reconnect()\n",
    "mycursor = mydb.cursor()\n",
    "sql = \"\"\"\n",
    "SELECT broker_name, sum(active_listing) AS '#active_listing', avg(price/area) AS 'price/sqm', count(agent_name) AS '#agent', (#active_listing/#agent) AS'average listings per agent'\n",
    "FROM broker INNER JOIN agent\n",
    "ON broker.broker_name = agent.broker_name\n",
    "INNER JOIN property \n",
    "ON agent.agent_name = property.agent_name\n",
    "GROUP BY 1\n",
    "LIMIT 5;\n",
    "\"\"\"\n",
    "mycursor.execute(sql)"
   ]
  },
  {
   "cell_type": "code",
   "execution_count": null,
   "id": "06949ddb",
   "metadata": {},
   "outputs": [],
   "source": [
    "result = mycursor.fetchall()\n",
    "for r in result:\n",
    "    print(r)"
   ]
  },
  {
   "cell_type": "markdown",
   "id": "e03ebc21",
   "metadata": {},
   "source": [
    "10- Show all the properties listed by a specific agent (given their first and last name and / or phone no) "
   ]
  },
  {
   "cell_type": "code",
   "execution_count": 133,
   "id": "7591a595",
   "metadata": {},
   "outputs": [],
   "source": [
    "mydb.reconnect()\n",
    "mycursor = mydb.cursor()\n",
    "sql = \"\"\"\n",
    "SELECT distinct p_id \n",
    "FROM property P INNER JOIN agent A\n",
    "ON P.agent_name = A.agent_name\n",
    "WHERE A.agent_name = 'Sakan Real Estate';\n",
    "\"\"\"\n",
    "mycursor.execute(sql)"
   ]
  },
  {
   "cell_type": "code",
   "execution_count": 134,
   "id": "e36f09ea",
   "metadata": {},
   "outputs": [
    {
     "name": "stdout",
     "output_type": "stream",
     "text": [
      "(2999,)\n",
      "(4040,)\n",
      "(5819,)\n"
     ]
    }
   ],
   "source": [
    "result = mycursor.fetchall()\n",
    "for r in result:\n",
    "    print(r)"
   ]
  },
  {
   "cell_type": "markdown",
   "id": "06b8c104",
   "metadata": {},
   "source": [
    "END OF PROJECT 1!"
   ]
  }
 ],
 "metadata": {
  "kernelspec": {
   "display_name": "Python 3 (ipykernel)",
   "language": "python",
   "name": "python3"
  },
  "language_info": {
   "codemirror_mode": {
    "name": "ipython",
    "version": 3
   },
   "file_extension": ".py",
   "mimetype": "text/x-python",
   "name": "python",
   "nbconvert_exporter": "python",
   "pygments_lexer": "ipython3",
   "version": "3.9.7"
  }
 },
 "nbformat": 4,
 "nbformat_minor": 5
}
